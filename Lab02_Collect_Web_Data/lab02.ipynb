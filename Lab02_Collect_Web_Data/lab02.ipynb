{
 "cells": [
  {
   "cell_type": "code",
   "execution_count": 1,
   "id": "c7ebd9b8",
   "metadata": {},
   "outputs": [
    {
     "name": "stdout",
     "output_type": "stream",
     "text": [
      "✅ Đã lưu tiêu đề vào file baiviet.txt\n"
     ]
    }
   ],
   "source": [
    "import requests\n",
    "from bs4 import BeautifulSoup\n",
    "\n",
    "url = \"https://vnexpress.net/\"\n",
    "response = requests.get(url)\n",
    "soup = BeautifulSoup(response.text, \"html.parser\")\n",
    "\n",
    "titles = soup.find_all(\"h3\", class_=\"title-news\")\n",
    "\n",
    "with open(\"baiviet.txt\", \"w\", encoding=\"utf-8\") as f:\n",
    "    for t in titles:\n",
    "        f.write(t.get_text(strip=True) + \"\\n\")\n",
    "\n",
    "print(\"✅ Đã lưu tiêu đề vào file baiviet.txt\")"
   ]
  },
  {
   "cell_type": "code",
   "execution_count": 2,
   "id": "856cc250",
   "metadata": {},
   "outputs": [
    {
     "name": "stdout",
     "output_type": "stream",
     "text": [
      "✅ Đã lưu dữ liệu thời tiết vào weather.csv và weather.json\n"
     ]
    }
   ],
   "source": [
    "import requests\n",
    "import pandas as pd\n",
    "\n",
    "url = \"https://api.open-meteo.com/v1/forecast\"\n",
    "params = {\n",
    "    \"latitude\": 21.0285, # Hà Nội\n",
    "    \"longitude\": 105.8542,\n",
    "    \"hourly\": \"temperature_2m\"\n",
    "}\n",
    "\n",
    "response = requests.get(url, params=params)\n",
    "data = response.json()\n",
    "\n",
    "df = pd.DataFrame({\n",
    "    \"time\": data[\"hourly\"][\"time\"],\n",
    "    \"temperature\": data[\"hourly\"][\"temperature_2m\"]\n",
    "})\n",
    "\n",
    "df.to_csv(\"weather.csv\", index=False, encoding=\"utf-8\")\n",
    "df.to_json(\"weather.json\", orient=\"records\", force_ascii=False)\n",
    "\n",
    "print(\"✅ Đã lưu dữ liệu thời tiết vào weather.csv và weather.json\")"
   ]
  },
  {
   "cell_type": "code",
   "execution_count": null,
   "id": "3c566b7c",
   "metadata": {},
   "outputs": [],
   "source": [
    "import requests, time, datetime\n",
    "\n",
    "URL = \"https://api.coingecko.com/api/v3/simple/price\"\n",
    "PARAMS = {\"ids\": \"bitcoin\", \"vs_currencies\": \"usd\"}\n",
    "HEADERS = {\"User-Agent\": \"Mozilla/5.0\"} # tránh bị chặn bởi một số server\n",
    "\n",
    "def fetch_price():\n",
    "    r = requests.get(URL, params=PARAMS, headers=HEADERS, timeout=10)\n",
    "    r.raise_for_status()\n",
    "    data = r.json()\n",
    "    return data[\"bitcoin\"][\"usd\"]\n",
    "\n",
    "while True:\n",
    "    try:\n",
    "        price = fetch_price()\n",
    "        ts = datetime.datetime.now().strftime(\"%Y-%m-%d %H:%M:%S\")\n",
    "        line = f\"[{ts}] Giá Bitcoin (USD): {price}\\n\"\n",
    "        with open(\"bitcoin_price.txt\", \"a\", encoding=\"utf-8\") as f:\n",
    "            f.write(line)\n",
    "        print(\"💰\", line.strip())\n",
    "\n",
    "    except Exception as e:\n",
    "        print(\"❌ Lỗi:\", e)\n",
    "time.sleep(30) # 30s là hợp lý với cache của API"
   ]
  }
 ],
 "metadata": {
  "kernelspec": {
   "display_name": "lab02_env",
   "language": "python",
   "name": "python3"
  },
  "language_info": {
   "codemirror_mode": {
    "name": "ipython",
    "version": 3
   },
   "file_extension": ".py",
   "mimetype": "text/x-python",
   "name": "python",
   "nbconvert_exporter": "python",
   "pygments_lexer": "ipython3",
   "version": "3.13.3"
  }
 },
 "nbformat": 4,
 "nbformat_minor": 5
}
