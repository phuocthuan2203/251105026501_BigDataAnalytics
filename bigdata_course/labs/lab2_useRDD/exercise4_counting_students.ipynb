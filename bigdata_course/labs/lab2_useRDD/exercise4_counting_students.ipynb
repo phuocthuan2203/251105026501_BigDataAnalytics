{
 "cells": [
  {
   "cell_type": "code",
   "execution_count": 1,
   "id": "532b1739",
   "metadata": {},
   "outputs": [
    {
     "name": "stderr",
     "output_type": "stream",
     "text": [
      "25/09/25 10:29:44 WARN Utils: Your hostname, thuan-precision-5560 resolves to a loopback address: 127.0.1.1; using 192.168.1.5 instead (on interface wlp0s20f3)\n",
      "25/09/25 10:29:44 WARN Utils: Set SPARK_LOCAL_IP if you need to bind to another address\n",
      "Setting default log level to \"WARN\".\n",
      "To adjust logging level use sc.setLogLevel(newLevel). For SparkR, use setLogLevel(newLevel).\n",
      "25/09/25 10:29:44 WARN NativeCodeLoader: Unable to load native-hadoop library for your platform... using builtin-java classes where applicable\n",
      "25/09/25 10:29:45 WARN Utils: Service 'SparkUI' could not bind on port 4040. Attempting port 4041.\n",
      "25/09/25 10:29:45 WARN Utils: Service 'SparkUI' could not bind on port 4041. Attempting port 4042.\n",
      "25/09/25 10:29:45 WARN Utils: Service 'SparkUI' could not bind on port 4042. Attempting port 4043.\n"
     ]
    },
    {
     "name": "stdout",
     "output_type": "stream",
     "text": [
      "✅ Created new SparkContext\n",
      "✅ SparkContext ready - Version: 3.5.6\n",
      "✅ Application: Lab2_Complete\n"
     ]
    }
   ],
   "source": [
    "# ===== FIXED SETUP FOR JUPYTER =====\n",
    "import os\n",
    "import sys\n",
    "\n",
    "# Clear any existing Spark environment variables\n",
    "spark_env_vars = ['SPARK_HOME', 'SPARK_LOCAL_DIRS', 'SPARK_CONF_DIR']\n",
    "for var in spark_env_vars:\n",
    "    if var in os.environ:\n",
    "        del os.environ[var]\n",
    "\n",
    "# Set clean environment\n",
    "os.environ['PYSPARK_PYTHON'] = sys.executable\n",
    "os.environ['PYSPARK_DRIVER_PYTHON'] = sys.executable\n",
    "\n",
    "# Import and create SparkContext (only once!)\n",
    "from pyspark import SparkContext, SparkConf\n",
    "\n",
    "# Check if SparkContext already exists\n",
    "try:\n",
    "    # Try to access existing SparkContext\n",
    "    sc.version\n",
    "    print(\"✅ Using existing SparkContext\")\n",
    "except:\n",
    "    # Create new SparkContext if none exists\n",
    "    conf = SparkConf().setAppName(\"Lab2_Complete\").setMaster(\"local[*]\")\n",
    "    sc = SparkContext(conf=conf)\n",
    "    print(\"✅ Created new SparkContext\")\n",
    "\n",
    "print(f\"✅ SparkContext ready - Version: {sc.version}\")\n",
    "print(f\"✅ Application: {sc.appName}\")\n"
   ]
  },
  {
   "cell_type": "code",
   "execution_count": 4,
   "id": "5c8263bc",
   "metadata": {},
   "outputs": [
    {
     "name": "stdout",
     "output_type": "stream",
     "text": [
      "=== BÀI 4: ĐẾM SINH VIÊN CÓ QUÊ QUÁN Ở BÌNH ĐỊNH ===\n",
      "\n",
      "Step 1: Kiểm tra cấu trúc file CSV\n",
      "✅ File có 2358 dòng\n",
      "📄 5 dòng đầu tiên:\n",
      "  1: 4351010011,Nguyễn Đình Đô,11/04/2002,Phú Yên,THPT chuyên Lê Quý Đôn,Sư phạm Toán học\n",
      "  2: 4351010019,Chu Thị Kim Hà,02/09/2002,Phú Yên,THPT Phan Bội Châu,Sư phạm Toán học\n",
      "  3: 4351010029,Nguyễn thị bích Hồng,12/03/2002,Quảng Ngãi,Trường THPT Lê Trung Đình,Sư phạm Toán học\n",
      "  4: 4351010030,Nguyễn Thị Như Hồng,20/09/2002,Gia Lai,Trường THPT Pleiku,Sư phạm Toán học\n",
      "  5: 4351010037,Võ Thụy Ngọc Huyền,09/05/2002,Bình Định,Quốc Học Quy Nhơn,Sư phạm Toán học\n",
      "\n",
      "📊 Dòng đầu tiên: 4351010011,Nguyễn Đình Đô,11/04/2002,Phú Yên,THPT chuyên Lê Quý Đôn,Sư phạm Toán học\n",
      "❌ Không có header row\n"
     ]
    }
   ],
   "source": [
    "# ===== BÀI 4: ĐẾM SINH VIÊN =====\n",
    "print(\"=== BÀI 4: ĐẾM SINH VIÊN CÓ QUÊ QUÁN Ở BÌNH ĐỊNH ===\\n\")\n",
    "\n",
    "# Step 1: Examine the CSV file structure first\n",
    "print(\"Step 1: Kiểm tra cấu trúc file CSV\")\n",
    "\n",
    "with open(\"../../data/SinhVien.csv\", \"r\", encoding=\"utf-8\") as f:\n",
    "    lines = f.readlines()\n",
    "\n",
    "print(f\"✅ File có {len(lines)} dòng\")\n",
    "print(\"📄 5 dòng đầu tiên:\")\n",
    "for i, line in enumerate(lines[:5]):\n",
    "    print(f\"  {i+1}: {line.strip()}\")\n",
    "\n",
    "# Check if first line is header\n",
    "first_line = lines[0].strip()\n",
    "print(f\"\\n📊 Dòng đầu tiên: {first_line}\")\n",
    "if \"mã_sv\" in first_line.lower() or \"họ_tên\" in first_line:\n",
    "    print(\"✅ Có header row\")\n",
    "    has_header = True\n",
    "else:\n",
    "    print(\"❌ Không có header row\")\n",
    "    has_header = False"
   ]
  },
  {
   "cell_type": "code",
   "execution_count": 8,
   "id": "d79da99b",
   "metadata": {},
   "outputs": [
    {
     "name": "stdout",
     "output_type": "stream",
     "text": [
      "\n",
      "Step 2: Đọc file CSV bằng Spark\n",
      "✅ RDD được tạo với 2358 dòng\n",
      "✅ Số phân vùng: 2\n",
      "✅ Không có header, sử dụng tất cả dòng\n",
      "✅ Số dòng dữ liệu sinh viên: 2358\n",
      "\n",
      "📖 3 dòng dữ liệu mẫu:\n",
      "  1: 4351010011,Nguyễn Đình Đô,11/04/2002,Phú Yên,THPT chuyên Lê Quý Đôn,Sư phạm Toán học\n",
      "  2: 4351010019,Chu Thị Kim Hà,02/09/2002,Phú Yên,THPT Phan Bội Châu,Sư phạm Toán học\n",
      "  3: 4351010029,Nguyễn thị bích Hồng,12/03/2002,Quảng Ngãi,Trường THPT Lê Trung Đình,Sư phạm Toán học\n"
     ]
    }
   ],
   "source": [
    "# Step 2: Đọc file CSV bằng Spark\n",
    "print(\"\\nStep 2: Đọc file CSV bằng Spark\")\n",
    "\n",
    "# Read CSV file into RDD\n",
    "students_rdd = sc.textFile(\"../../data/SinhVien.csv\")\n",
    "\n",
    "print(f\"✅ RDD được tạo với {students_rdd.count()} dòng\")\n",
    "print(f\"✅ Số phân vùng: {students_rdd.getNumPartitions()}\")\n",
    "\n",
    "# Filter out header if it exists\n",
    "if \"mã_sv\" in first_line or \"4351\" not in first_line:\n",
    "    print(\"✅ Loại bỏ header row\")\n",
    "    data_rdd = students_rdd.filter(lambda line: line != first_line)\n",
    "    header = first_line\n",
    "else:\n",
    "    print(\"✅ Không có header, sử dụng tất cả dòng\")\n",
    "    data_rdd = students_rdd\n",
    "    header = None\n",
    "\n",
    "data_count = data_rdd.count()\n",
    "print(f\"✅ Số dòng dữ liệu sinh viên: {data_count}\")\n",
    "\n",
    "# Show sample data\n",
    "print(f\"\\n📖 3 dòng dữ liệu mẫu:\")\n",
    "sample_data = data_rdd.take(3)\n",
    "for i, line in enumerate(sample_data, 1):\n",
    "    print(f\"  {i}: {line}\")"
   ]
  },
  {
   "cell_type": "code",
   "execution_count": 11,
   "id": "5171b01c",
   "metadata": {},
   "outputs": [
    {
     "name": "stdout",
     "output_type": "stream",
     "text": [
      "\n",
      "Step 3: Phân tích cấu trúc CSV\n",
      "📊 Số trường trong mỗi record: 6\n",
      "📋 Cấu trúc trường (dựa trên dòng mẫu):\n",
      "  0: Mã SV = '4351010011'\n",
      "  1: Họ tên = 'Nguyễn Đình Đô'\n",
      "  2: Ngày sinh = '11/04/2002'\n",
      "  3: Quê quán = 'Phú Yên'\n",
      "  4: Trường THPT = 'THPT chuyên Lê Quý Đôn'\n",
      "  5: Ngành học = 'Sư phạm Toán học'\n",
      "\n",
      "✅ Trường 'Quê quán' ở vị trí index 3\n",
      "✅ Giá trị quê quán mẫu: 'Phú Yên'\n",
      "\n",
      "📍 Một số ví dụ về quê quán:\n",
      "  1: 'Phú Yên'\n",
      "  2: 'Phú Yên'\n",
      "  3: 'Quảng Ngãi'\n",
      "  4: 'Gia Lai'\n",
      "  5: 'Bình Định'\n",
      "  6: 'Phú Yên'\n",
      "  7: 'Kon Tum'\n",
      "  8: 'Nghệ An'\n",
      "  9: ''\n",
      "  10: 'Bình Định'\n"
     ]
    }
   ],
   "source": [
    "# Step 3: Phân tích cấu trúc các trường dữ liệu\n",
    "print(\"\\nStep 3: Phân tích cấu trúc CSV\")\n",
    "\n",
    "# Parse a sample record to understand field positions\n",
    "sample_record = data_rdd.first()\n",
    "fields = sample_record.split(',')\n",
    "\n",
    "print(f\"📊 Số trường trong mỗi record: {len(fields)}\")\n",
    "print(\"📋 Cấu trúc trường (dựa trên dòng mẫu):\")\n",
    "\n",
    "field_names = [\"Mã SV\", \"Họ tên\", \"Ngày sinh\", \"Quê quán\", \"Trường THPT\", \"Ngành học\"]\n",
    "for i, (name, value) in enumerate(zip(field_names, fields)):\n",
    "    print(f\"  {i}: {name} = '{value}'\")\n",
    "\n",
    "# The hometown field is at index 3 (0-based)\n",
    "hometown_index = 3\n",
    "print(f\"\\n✅ Trường 'Quê quán' ở vị trí index {hometown_index}\")\n",
    "print(f\"✅ Giá trị quê quán mẫu: '{fields[hometown_index]}'\")\n",
    "\n",
    "# Show some examples of hometown values\n",
    "print(f\"\\n📍 Một số ví dụ về quê quán:\")\n",
    "sample_hometowns = data_rdd.map(lambda line: line.split(',')[hometown_index]).take(10)\n",
    "for i, hometown in enumerate(sample_hometowns, 1):\n",
    "    print(f\"  {i}: '{hometown}'\")"
   ]
  },
  {
   "cell_type": "code",
   "execution_count": 13,
   "id": "44f20d1f",
   "metadata": {},
   "outputs": [
    {
     "name": "stdout",
     "output_type": "stream",
     "text": [
      "\n",
      "Step 4: Lọc sinh viên từ Bình Định\n",
      "✅ Số sinh viên có quê quán ở Bình Định: 1439\n",
      "\n",
      "👥 10 sinh viên đầu tiên từ Bình Định:\n",
      "  1: Võ Thụy Ngọc Huyền - Bình Định - Sư phạm Toán học\n",
      "  2: Lê Thị Thanh Quý - Bình Định - Sư phạm Toán học\n",
      "  3: Nguyễn Ngọc Như Quỳnh - Bình Định - Sư phạm Toán học\n",
      "  4: Trần Hoàng Tuyết Sương - Bình Định - Sư phạm Toán học\n",
      "  5: Ngô Thị Hồng Thắm - Bình Định - Sư phạm Toán học\n",
      "  6: Lê Nguyễn Anh Thi - Bình Định - Sư phạm Toán học\n",
      "  7: Lê Nguyễn Anh Thư - Bình Định - Sư phạm Toán học\n",
      "  8: Nguyễn Anh Thư - Bình Định - Sư phạm Toán học\n",
      "  9: Đinh Quang Tịnh - Bình Định - Sư phạm Toán học\n",
      "  10: Đỗ Hữu Tuấn - Bình Định - Sư phạm Toán học\n"
     ]
    }
   ],
   "source": [
    "# Step 4: Lọc sinh viên có quê quán ở Bình Định\n",
    "print(\"\\nStep 4: Lọc sinh viên từ Bình Định\")\n",
    "\n",
    "# Filter function to check if student is from Bình Định\n",
    "def is_from_binh_dinh(line):\n",
    "    try:\n",
    "        fields = line.split(',')\n",
    "        if len(fields) >= 4:  # Ensure we have enough fields\n",
    "            hometown = fields[3].strip()  # Quê quán field\n",
    "            return \"Bình Định\" in hometown\n",
    "        return False\n",
    "    except:\n",
    "        return False\n",
    "\n",
    "# Apply filter\n",
    "binh_dinh_students = data_rdd.filter(is_from_binh_dinh)\n",
    "\n",
    "# Count students from Bình Định\n",
    "bd_count = binh_dinh_students.count()\n",
    "print(f\"✅ Số sinh viên có quê quán ở Bình Định: {bd_count}\")\n",
    "\n",
    "# Show some examples\n",
    "print(f\"\\n👥 10 sinh viên đầu tiên từ Bình Định:\")\n",
    "bd_sample = binh_dinh_students.take(10)\n",
    "for i, student in enumerate(bd_sample, 1):\n",
    "    fields = student.split(',')\n",
    "    name = fields[1] if len(fields) > 1 else \"N/A\"\n",
    "    hometown = fields[3] if len(fields) > 3 else \"N/A\"\n",
    "    major = fields[5] if len(fields) > 5 else \"N/A\"\n",
    "    print(f\"  {i}: {name} - {hometown} - {major}\")"
   ]
  },
  {
   "cell_type": "code",
   "execution_count": 15,
   "id": "3e84f2a3",
   "metadata": {},
   "outputs": [
    {
     "name": "stdout",
     "output_type": "stream",
     "text": [
      "\n",
      "Step 6: Lưu kết quả sinh viên Bình Định\n",
      "💾 Lưu danh sách vào: ../../results/Bai4_binh_dinh_students\n",
      "✅ Đã xóa thư mục output cũ\n",
      "✅ Đã lưu danh sách sinh viên Bình Định\n",
      "\n",
      "📁 Các file được tạo:\n",
      "  📄 ._SUCCESS.crc (8 bytes)\n",
      "  📄 .part-00000.crc (624 bytes)\n",
      "  📄 .part-00001.crc (544 bytes)\n",
      "  📄 _SUCCESS (0 bytes)\n",
      "  📄 part-00000 (78623 bytes)\n",
      "  📄 part-00001 (68286 bytes)\n",
      "\n",
      "🔍 Verification: Đọc lại được 1439 sinh viên\n",
      "✅ Khớp với kết quả gốc? Đúng\n"
     ]
    }
   ],
   "source": [
    "# Step 6: Lưu kết quả và kiểm tra\n",
    "print(\"\\nStep 6: Lưu kết quả sinh viên Bình Định\")\n",
    "\n",
    "import os, shutil\n",
    "\n",
    "# Save list of Bình Định students\n",
    "output_path = \"../../results/Bai4_binh_dinh_students\"\n",
    "print(f\"💾 Lưu danh sách vào: {output_path}\")\n",
    "\n",
    "# Remove existing output directory\n",
    "if os.path.exists(output_path):\n",
    "    shutil.rmtree(output_path)\n",
    "    print(\"✅ Đã xóa thư mục output cũ\")\n",
    "\n",
    "# Create results directory\n",
    "os.makedirs(\"../../results\", exist_ok=True)\n",
    "\n",
    "# Save the filtered RDD\n",
    "binh_dinh_students.saveAsTextFile(output_path)\n",
    "print(\"✅ Đã lưu danh sách sinh viên Bình Định\")\n",
    "\n",
    "# Verify saved files\n",
    "if os.path.exists(output_path):\n",
    "    files = os.listdir(output_path)\n",
    "    print(f\"\\n📁 Các file được tạo:\")\n",
    "    for filename in sorted(files):\n",
    "        filepath = os.path.join(output_path, filename)\n",
    "        if os.path.isfile(filepath):\n",
    "            size = os.path.getsize(filepath)\n",
    "            print(f\"  📄 {filename} ({size} bytes)\")\n",
    "\n",
    "    # Read back and verify count\n",
    "    verification_rdd = sc.textFile(output_path)\n",
    "    verification_count = verification_rdd.count()\n",
    "    print(f\"\\n🔍 Verification: Đọc lại được {verification_count} sinh viên\")\n",
    "    print(f\"✅ Khớp với kết quả gốc? {'Đúng' if verification_count == bd_count else 'Sai'}\")\n",
    "\n"
   ]
  }
 ],
 "metadata": {
  "kernelspec": {
   "display_name": "spark_env",
   "language": "python",
   "name": "python3"
  },
  "language_info": {
   "codemirror_mode": {
    "name": "ipython",
    "version": 3
   },
   "file_extension": ".py",
   "mimetype": "text/x-python",
   "name": "python",
   "nbconvert_exporter": "python",
   "pygments_lexer": "ipython3",
   "version": "3.13.3"
  }
 },
 "nbformat": 4,
 "nbformat_minor": 5
}
