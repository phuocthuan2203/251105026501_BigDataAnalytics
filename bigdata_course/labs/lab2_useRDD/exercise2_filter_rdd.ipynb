{
 "cells": [
  {
   "cell_type": "code",
   "execution_count": 2,
   "id": "e6717236",
   "metadata": {},
   "outputs": [
    {
     "name": "stderr",
     "output_type": "stream",
     "text": [
      "25/09/25 09:59:10 WARN Utils: Your hostname, thuan-precision-5560 resolves to a loopback address: 127.0.1.1; using 192.168.1.5 instead (on interface wlp0s20f3)\n",
      "25/09/25 09:59:10 WARN Utils: Set SPARK_LOCAL_IP if you need to bind to another address\n",
      "Setting default log level to \"WARN\".\n",
      "To adjust logging level use sc.setLogLevel(newLevel). For SparkR, use setLogLevel(newLevel).\n",
      "25/09/25 09:59:10 WARN NativeCodeLoader: Unable to load native-hadoop library for your platform... using builtin-java classes where applicable\n"
     ]
    },
    {
     "name": "stdout",
     "output_type": "stream",
     "text": [
      "✅ Created new SparkContext\n",
      "✅ SparkContext ready - Version: 3.5.6\n",
      "✅ Application: Lab2_Complete\n"
     ]
    }
   ],
   "source": [
    "# ===== FIXED SETUP FOR JUPYTER =====\n",
    "import os\n",
    "import sys\n",
    "\n",
    "# Clear any existing Spark environment variables\n",
    "spark_env_vars = ['SPARK_HOME', 'SPARK_LOCAL_DIRS', 'SPARK_CONF_DIR']\n",
    "for var in spark_env_vars:\n",
    "    if var in os.environ:\n",
    "        del os.environ[var]\n",
    "\n",
    "# Set clean environment\n",
    "os.environ['PYSPARK_PYTHON'] = sys.executable\n",
    "os.environ['PYSPARK_DRIVER_PYTHON'] = sys.executable\n",
    "\n",
    "# Import and create SparkContext (only once!)\n",
    "from pyspark import SparkContext, SparkConf\n",
    "\n",
    "# Check if SparkContext already exists\n",
    "try:\n",
    "    # Try to access existing SparkContext\n",
    "    sc.version\n",
    "    print(\"✅ Using existing SparkContext\")\n",
    "except:\n",
    "    # Create new SparkContext if none exists\n",
    "    conf = SparkConf().setAppName(\"Lab2_Complete\").setMaster(\"local[*]\")\n",
    "    sc = SparkContext(conf=conf)\n",
    "    print(\"✅ Created new SparkContext\")\n",
    "\n",
    "print(f\"✅ SparkContext ready - Version: {sc.version}\")\n",
    "print(f\"✅ Application: {sc.appName}\")\n"
   ]
  },
  {
   "cell_type": "code",
   "execution_count": 3,
   "id": "603b3f9f",
   "metadata": {},
   "outputs": [
    {
     "name": "stdout",
     "output_type": "stream",
     "text": [
      "=== BÀI 2: LỌC CÁC RDD ===\n",
      "\n",
      "Step 1: Tạo RDD từ 0 đến 9999 với 5 phân vùng\n"
     ]
    },
    {
     "name": "stderr",
     "output_type": "stream",
     "text": [
      "                                                                                \r"
     ]
    },
    {
     "name": "stdout",
     "output_type": "stream",
     "text": [
      "✅ RDD được tạo với 10000 số\n",
      "✅ Số phân vùng: 5\n",
      "Phân bổ dữ liệu theo phân vùng:\n",
      "  Phân vùng 0: 2000 số\n",
      "  Phân vùng 1: 2000 số\n",
      "  Phân vùng 2: 2000 số\n",
      "  Phân vùng 3: 2000 số\n",
      "  Phân vùng 4: 2000 số\n"
     ]
    }
   ],
   "source": [
    "# ===== BÀI 2: LỌC CÁC RDD =====\n",
    "print(\"=== BÀI 2: LỌC CÁC RDD ===\\n\")\n",
    "\n",
    "# Tạo RDD từ 0 đến 9999 với 5 phân vùng\n",
    "print(\"Step 1: Tạo RDD từ 0 đến 9999 với 5 phân vùng\")\n",
    "rdd_numbers = sc.parallelize(range(10000), 5)\n",
    "\n",
    "print(f\"✅ RDD được tạo với {rdd_numbers.count()} số\")\n",
    "print(f\"✅ Số phân vùng: {rdd_numbers.getNumPartitions()}\")\n",
    "\n",
    "# Xem cách phân chia dữ liệu\n",
    "partitions_info = [(i, len(partition)) for i, partition in enumerate(rdd_numbers.glom().collect())]\n",
    "print(\"Phân bổ dữ liệu theo phân vùng:\")\n",
    "for partition_id, count in partitions_info:\n",
    "    print(f\"  Phân vùng {partition_id}: {count} số\")"
   ]
  },
  {
   "cell_type": "code",
   "execution_count": 4,
   "id": "a2ace51f",
   "metadata": {},
   "outputs": [
    {
     "name": "stdout",
     "output_type": "stream",
     "text": [
      "Step 2: Hiểu logic lọc - số chia hết cho 3 nhưng KHÔNG chia hết cho 9\n",
      "\n",
      "Test logic với một vài số:\n",
      "Số | Chia hết cho 3? | Chia hết cho 9? | Kết quả filter\n",
      "-------------------------------------------------------\n",
      " 3 |             1 |             0 | True\n",
      " 6 |             1 |             0 | True\n",
      " 9 |             1 |             1 | False\n",
      "12 |             1 |             0 | True\n",
      "15 |             1 |             0 | True\n",
      "18 |             1 |             1 | False\n",
      "21 |             1 |             0 | True\n",
      "24 |             1 |             0 | True\n",
      "27 |             1 |             1 | False\n",
      "30 |             1 |             0 | True\n",
      "\n",
      "📝 Kết luận: Các số thỏa mãn là: [3, 6, 12, 15, 21, 24, 30]\n"
     ]
    }
   ],
   "source": [
    "# ===== HIỂU LOGIC FILTER =====\n",
    "print(\"Step 2: Hiểu logic lọc - số chia hết cho 3 nhưng KHÔNG chia hết cho 9\")\n",
    "\n",
    "# Test một vài số để hiểu logic\n",
    "test_numbers = [3, 6, 9, 12, 15, 18, 21, 24, 27, 30]\n",
    "print(\"\\nTest logic với một vài số:\")\n",
    "print(\"Số | Chia hết cho 3? | Chia hết cho 9? | Kết quả filter\")\n",
    "print(\"-\" * 55)\n",
    "\n",
    "for num in test_numbers:\n",
    "    div_by_3 = (num % 3 == 0)\n",
    "    div_by_9 = (num % 9 == 0)\n",
    "    result = div_by_3 and not div_by_9\n",
    "    print(f\"{num:2} | {div_by_3:13} | {div_by_9:13} | {result}\")\n",
    "\n",
    "print(f\"\\n📝 Kết luận: Các số thỏa mãn là: {[n for n in test_numbers if n%3==0 and n%9!=0]}\")\n"
   ]
  },
  {
   "cell_type": "code",
   "execution_count": 6,
   "id": "ecfbc7cc",
   "metadata": {},
   "outputs": [
    {
     "name": "stdout",
     "output_type": "stream",
     "text": [
      "Step 3: Áp dụng filter với lambda function\n",
      "✅ Filter đã được áp dụng (đây là transformation - lazy evaluation)\n",
      "💡 Chưa có tính toán thực sự xảy ra cho đến khi có action\n",
      "\n",
      "Counting filtered elements (this triggers computation)...\n",
      "✅ Số phần tử sau khi lọc: 2222\n",
      "📊 Verification:\n",
      "  - Số chia hết cho 3: 3334\n",
      "  - Số chia hết cho 9: 1112\n",
      "  - Kết quả mong đợi: 2222\n",
      "  - Kết quả thực tế: 2222\n",
      "  - Đúng? Đúng ✅\n"
     ]
    }
   ],
   "source": [
    "# ===== ÁP DỤNG FILTER =====\n",
    "print(\"Step 3: Áp dụng filter với lambda function\")\n",
    "\n",
    "# Áp dụng filter\n",
    "filtered_rdd = rdd_numbers.filter(lambda n: n % 3 == 0 and n % 9 != 0)\n",
    "\n",
    "print(\"✅ Filter đã được áp dụng (đây là transformation - lazy evaluation)\")\n",
    "print(\"💡 Chưa có tính toán thực sự xảy ra cho đến khi có action\")\n",
    "\n",
    "# Đếm số phần tử sau khi filter (đây là action - sẽ trigger computation)\n",
    "print(\"\\nCounting filtered elements (this triggers computation)...\")\n",
    "filtered_count = filtered_rdd.count()\n",
    "print(f\"✅ Số phần tử sau khi lọc: {filtered_count}\")\n",
    "\n",
    "# Tính toán để so sánh\n",
    "total_div_by_3 = len([n for n in range(10000) if n % 3 == 0])  # Divisible by 3\n",
    "total_div_by_9 = len([n for n in range(10000) if n % 9 == 0])  # Divisible by 9\n",
    "expected_result = total_div_by_3 - total_div_by_9\n",
    "\n",
    "print(f\"📊 Verification:\")\n",
    "print(f\"  - Số chia hết cho 3: {total_div_by_3}\")\n",
    "print(f\"  - Số chia hết cho 9: {total_div_by_9}\")\n",
    "print(f\"  - Kết quả mong đợi: {expected_result}\")\n",
    "print(f\"  - Kết quả thực tế: {filtered_count}\")\n",
    "print(f\"  - Đúng? {'Đúng ✅' if filtered_count == expected_result else 'Sai ❌'}\")"
   ]
  },
  {
   "cell_type": "code",
   "execution_count": 7,
   "id": "d44a0c17",
   "metadata": {},
   "outputs": [
    {
     "name": "stdout",
     "output_type": "stream",
     "text": [
      "Step 4: Xem kết quả theo từng phân vùng\n",
      "Kết quả lọc theo từng phân vùng:\n",
      "Phân vùng 0: 444 số\n",
      "  First 10: [3, 6, 12, 15, 21, 24, 30, 33, 39, 42]\n",
      "  Last 10:  [1956, 1959, 1965, 1968, 1974, 1977, 1983, 1986, 1992, 1995]\n",
      "\n",
      "Phân vùng 1: 445 số\n",
      "  First 10: [2001, 2004, 2010, 2013, 2019, 2022, 2028, 2031, 2037, 2040]\n",
      "  Last 10:  [3957, 3963, 3966, 3972, 3975, 3981, 3984, 3990, 3993, 3999]\n",
      "\n",
      "Phân vùng 2: 444 số\n",
      "  First 10: [4002, 4008, 4011, 4017, 4020, 4026, 4029, 4035, 4038, 4044]\n",
      "  Last 10:  [5955, 5961, 5964, 5970, 5973, 5979, 5982, 5988, 5991, 5997]\n",
      "\n",
      "Phân vùng 3: 445 số\n",
      "  First 10: [6000, 6006, 6009, 6015, 6018, 6024, 6027, 6033, 6036, 6042]\n",
      "  Last 10:  [7959, 7962, 7968, 7971, 7977, 7980, 7986, 7989, 7995, 7998]\n",
      "\n",
      "Phân vùng 4: 444 số\n",
      "  First 10: [8004, 8007, 8013, 8016, 8022, 8025, 8031, 8034, 8040, 8043]\n",
      "  Last 10:  [9957, 9960, 9966, 9969, 9975, 9978, 9984, 9987, 9993, 9996]\n",
      "\n"
     ]
    }
   ],
   "source": [
    "# ===== XEM KẾT QUẢ THEO PHÂN VÙNG =====\n",
    "print(\"Step 4: Xem kết quả theo từng phân vùng\")\n",
    "\n",
    "# Lấy kết quả theo phân vùng\n",
    "partitioned_results = filtered_rdd.glom().collect()\n",
    "\n",
    "print(\"Kết quả lọc theo từng phân vùng:\")\n",
    "for partition_id, partition_data in enumerate(partitioned_results):\n",
    "    print(f\"Phân vùng {partition_id}: {len(partition_data)} số\")\n",
    "    if len(partition_data) > 0:\n",
    "        print(f\"  First 10: {partition_data[:10]}\")\n",
    "        print(f\"  Last 10:  {partition_data[-10:]}\")\n",
    "    else:\n",
    "        print(f\"  (empty partition)\")\n",
    "    print()\n"
   ]
  },
  {
   "cell_type": "code",
   "execution_count": 8,
   "id": "90f72664",
   "metadata": {},
   "outputs": [
    {
     "name": "stdout",
     "output_type": "stream",
     "text": [
      "Step 5: Lưu kết quả vào thư mục\n",
      "Saving results to: ../../results/Bai2\n",
      "✅ Đã lưu kết quả vào file\n",
      "\n",
      "Các file được tạo trong ../../results/Bai2:\n",
      "  📄 ._SUCCESS.crc (8 bytes)\n",
      "  📄 .part-00000.crc (24 bytes)\n",
      "  📄 .part-00001.crc (28 bytes)\n",
      "  📄 .part-00002.crc (28 bytes)\n",
      "  📄 .part-00003.crc (28 bytes)\n",
      "  📄 .part-00004.crc (28 bytes)\n",
      "  📄 _SUCCESS (0 bytes)\n",
      "  📄 part-00000 (1974 bytes)\n",
      "  📄 part-00001 (2225 bytes)\n",
      "  📄 part-00002 (2220 bytes)\n",
      "  📄 part-00003 (2225 bytes)\n",
      "  📄 part-00004 (2220 bytes)\n"
     ]
    }
   ],
   "source": [
    "# ===== LƯU KẾT QUẢ VÀO FILE =====\n",
    "print(\"Step 5: Lưu kết quả vào thư mục\")\n",
    "\n",
    "import os\n",
    "\n",
    "# Tạo output directory\n",
    "output_path = \"../../results/Bai2\"\n",
    "print(f\"Saving results to: {output_path}\")\n",
    "\n",
    "# Xóa thư mục output cũ nếu tồn tại (Spark yêu cầu output directory không tồn tại)\n",
    "import shutil\n",
    "if os.path.exists(output_path):\n",
    "    shutil.rmtree(output_path)\n",
    "    print(\"✅ Đã xóa thư mục output cũ\")\n",
    "\n",
    "# Lưu RDD vào file\n",
    "filtered_rdd.saveAsTextFile(output_path)\n",
    "print(\"✅ Đã lưu kết quả vào file\")\n",
    "\n",
    "# Kiểm tra các file được tạo\n",
    "if os.path.exists(output_path):\n",
    "    files = os.listdir(output_path)\n",
    "    print(f\"\\nCác file được tạo trong {output_path}:\")\n",
    "    for file in sorted(files):\n",
    "        file_path = os.path.join(output_path, file)\n",
    "        if os.path.isfile(file_path):\n",
    "            size = os.path.getsize(file_path)\n",
    "            print(f\"  📄 {file} ({size} bytes)\")\n"
   ]
  }
 ],
 "metadata": {
  "kernelspec": {
   "display_name": "spark_env",
   "language": "python",
   "name": "python3"
  },
  "language_info": {
   "codemirror_mode": {
    "name": "ipython",
    "version": 3
   },
   "file_extension": ".py",
   "mimetype": "text/x-python",
   "name": "python",
   "nbconvert_exporter": "python",
   "pygments_lexer": "ipython3",
   "version": "3.13.3"
  }
 },
 "nbformat": 4,
 "nbformat_minor": 5
}
